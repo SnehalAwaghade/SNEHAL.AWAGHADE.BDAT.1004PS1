{
 "cells": [
  {
   "cell_type": "markdown",
   "id": "f5bf3327",
   "metadata": {},
   "source": [
    "Question 1"
   ]
  },
  {
   "cell_type": "code",
   "execution_count": 1,
   "id": "c379eb05",
   "metadata": {},
   "outputs": [
    {
     "name": "stdout",
     "output_type": "stream",
     "text": [
      "<class 'int'>\n",
      "<class 'float'>\n",
      "<class 'bool'>\n",
      "<class 'str'>\n",
      "<class 'int'>\n",
      "<class 'str'>\n",
      "<class 'str'>\n",
      "<class 'float'>\n",
      "<class 'int'>\n",
      "<class 'set'>\n",
      "<class 'bool'>\n"
     ]
    }
   ],
   "source": [
    "print(type(5))\n",
    "print(type(5.0))\n",
    "print(type(5 > 1))\n",
    "print(type('5'))\n",
    "print(type(5 * 2))\n",
    "print(type('5' * 2))\n",
    "print(type('5' + '2'))\n",
    "print(type(5 / 2))\n",
    "print(type(5 % 2))\n",
    "print(type({5, 2, 1}))\n",
    "print(type(5 == 3))"
   ]
  },
  {
   "cell_type": "markdown",
   "id": "a1ff181a",
   "metadata": {},
   "source": [
    "Question 2 "
   ]
  },
  {
   "cell_type": "code",
   "execution_count": 2,
   "id": "caa234cc",
   "metadata": {},
   "outputs": [
    {
     "name": "stdout",
     "output_type": "stream",
     "text": [
      "Solution a: Number of letters in \"Supercalifragilisticexpialidocious\" are 34\n",
      "Solution b: True\n",
      "Solution c: Supercalifragilisticexpialidocious\n",
      "Solution d: Bartok comes first\n"
     ]
    }
   ],
   "source": [
    "print(f'Solution a: Number of letters in \"Supercalifragilisticexpialidocious\" are {len(\"Supercalifragilisticexpialidocious\")}')\n",
    "print(f'Solution b: {\"ice\" in \"Supercalifragilisticexpialidocious\"}')\n",
    "print(f'Solution c: {max([\"Supercalifragilisticexpialidocious\", \"Honorificabilitudinitatibus\",\"Bababadalgharaghtakamminarronnkonn\"],key=len)}')\n",
    "print(f\"Solution d: {sorted(['Berlioz', 'Borodin', 'Brian', 'Bartok', 'Bellini', 'Buxtehude', 'Bernstein'])[0]} comes first\")"
   ]
  },
  {
   "cell_type": "markdown",
   "id": "1219e66f",
   "metadata": {},
   "source": [
    "Question 3"
   ]
  },
  {
   "cell_type": "code",
   "execution_count": 3,
   "id": "d65f9126",
   "metadata": {},
   "outputs": [
    {
     "data": {
      "text/plain": [
       "1.7320508075688772"
      ]
     },
     "execution_count": 3,
     "metadata": {},
     "output_type": "execute_result"
    }
   ],
   "source": [
    "import math\n",
    "def traingle(a,b,c):\n",
    "  s = (a+b+c)/2\n",
    "  area_sq = s*(s-a)*(s-b)*(s-c)\n",
    "  return math.sqrt(area_sq)\n",
    "\n",
    "traingle(2,2,2)"
   ]
  },
  {
   "cell_type": "markdown",
   "id": "3be4669a",
   "metadata": {},
   "source": [
    "Question 4"
   ]
  },
  {
   "cell_type": "code",
   "execution_count": 4,
   "id": "78cfaf4f",
   "metadata": {},
   "outputs": [
    {
     "name": "stdout",
     "output_type": "stream",
     "text": [
      "Even elements are : 42 56 32\n",
      "Odd elements are : 25 47\n"
     ]
    }
   ],
   "source": [
    "input_elements = [25,47,42,56,32]\n",
    "odd =[]\n",
    "even = []\n",
    "for i in input_elements:\n",
    "  if i%2 ==0:\n",
    "    even.append(i)\n",
    "  else:\n",
    "    odd.append(i)\n",
    "print(f\"Even elements are : {' '.join(map(str,even))}\")\n",
    "print(f\"Odd elements are : {' '.join(map(str,odd))}\")"
   ]
  },
  {
   "cell_type": "markdown",
   "id": "fdeace98",
   "metadata": {},
   "source": [
    "Question 5"
   ]
  },
  {
   "cell_type": "code",
   "execution_count": 5,
   "id": "a6f03874",
   "metadata": {},
   "outputs": [
    {
     "name": "stdout",
     "output_type": "stream",
     "text": [
      "True\n",
      "False\n",
      "False\n"
     ]
    }
   ],
   "source": [
    "def inside(x,y,x1,y1,x2,y2):\n",
    "  if x1 <=x <=x2 and y1 <=y <= y2:\n",
    "    return True\n",
    "  return False\n",
    "\n",
    "def inside_two(x,y,x1,y1,x2,y2,x3,y3,x4,y4):\n",
    "  if inside(x,y,x1,y1,x2,y2) and inside(x,y,x3,y3,x4,y4):\n",
    "    return True\n",
    "  return False\n",
    "\n",
    "print(inside(1,1,0,0,2,3))\n",
    "print(inside(-1,-1,0,0,2,3))\n",
    "print(inside_two(1,1,0.3,0.5,1.1,0.7,0.5,0.2,1.1,2))"
   ]
  },
  {
   "cell_type": "markdown",
   "id": "9c756c47",
   "metadata": {},
   "source": [
    "Question 6 "
   ]
  },
  {
   "cell_type": "code",
   "execution_count": 6,
   "id": "831b2448",
   "metadata": {},
   "outputs": [
    {
     "name": "stdout",
     "output_type": "stream",
     "text": [
      "appyhay\n",
      "enterway\n"
     ]
    }
   ],
   "source": [
    "def pig(string1):\n",
    "  first_letter = string1[0]\n",
    "  if first_letter not in 'aeiouAEIOU':\n",
    "    return str(string1[1:]+first_letter+'ay').lower()\n",
    "  else:\n",
    "    return string1.lower() +\"way\"\n",
    "\n",
    "print(pig('happy'))\n",
    "print(pig('Enter'))"
   ]
  },
  {
   "cell_type": "markdown",
   "id": "29254d2a",
   "metadata": {},
   "source": [
    "Question 7"
   ]
  },
  {
   "cell_type": "code",
   "execution_count": 7,
   "id": "fb391c83",
   "metadata": {},
   "outputs": [
    {
     "name": "stdout",
     "output_type": "stream",
     "text": [
      "There is 13 patients of blood type AB\n",
      "There is 1 patients of blood type B\n",
      "There is 15 patients of blood type O\n",
      "There is 15 patients of blood type A\n"
     ]
    }
   ],
   "source": [
    "f = open(\"bloodtype1.txt\", \"w\")\n",
    "f.write('AB AB B O A A AB O AB A O O A A A O O O AB O A A A A A AB AB A AB O AB O A O O O AB O AB AB AB A A O')\n",
    "f.close()\n",
    "\n",
    "f = open('bloodtype1.txt','r')\n",
    "bloodgroups = f.read().split()\n",
    "h = {}\n",
    "for bg in bloodgroups:\n",
    "  if h.get(bg) is None:\n",
    "    h[bg] =0\n",
    "  h[bg]+=1\n",
    "for i in h:\n",
    "  print(f\"There is {h[i]} patients of blood type {i}\")"
   ]
  },
  {
   "cell_type": "markdown",
   "id": "74044d61",
   "metadata": {},
   "source": [
    "Question 8"
   ]
  },
  {
   "cell_type": "code",
   "execution_count": 8,
   "id": "5646f081",
   "metadata": {},
   "outputs": [
    {
     "name": "stdout",
     "output_type": "stream",
     "text": [
      "122.96544\n",
      "1.241401\n"
     ]
    }
   ],
   "source": [
    "f = open('currencies.txt','w')\n",
    "f.write('''AUD\t1.0345157\tAustralian Dollar\n",
    "CHF\t1.0237414\tSwiss Franc\n",
    "CNY\t0.1550176\tChinese Yuan\n",
    "DKK\t0.1651442\tDanish Krone\n",
    "EUR\t1.2296544\tEuro\n",
    "GBP\t1.5550989\tBritish Pound\n",
    "HKD\t0.1270207\tHong Kong Dollar\n",
    "INR\t0.0177643\tIndian Rupee\n",
    "JPY\t0.01241401\tJapanese Yen\n",
    "MXN\t0.0751848\tMexican Peso\n",
    "MYR\t0.3145411\tMalaysian Ringgit\n",
    "NOK\t0.1677063\tNorwegian Krone\n",
    "NZD\t0.8003591\tNew Zealand Dollar\n",
    "PHP\t0.0233234\tPhilippine Peso\n",
    "SEK\t0.148269\tSwedish Krona\n",
    "SGD\t0.788871\tSingapore Dollar\n",
    "THB\t0.0313789\tThai Baht''')\n",
    "f.close()\n",
    "\n",
    "def curconv(cur,amt):\n",
    "  f = open('currencies.txt','r')\n",
    "  h ={}\n",
    "  for i in f.readlines():\n",
    "    i = i.split()\n",
    "    #if h.get(i[0]) is None:\n",
    "\n",
    "    h[i[0]] = float(i[1])\n",
    "  return h[cur]*amt\n",
    "print(curconv('EUR',100))\n",
    "print(curconv('JPY',100))"
   ]
  },
  {
   "cell_type": "markdown",
   "id": "10aacffc",
   "metadata": {},
   "source": [
    "Question 9"
   ]
  },
  {
   "cell_type": "code",
   "execution_count": 9,
   "id": "b4b402db",
   "metadata": {},
   "outputs": [
    {
     "name": "stdout",
     "output_type": "stream",
     "text": [
      "a: TypeError\n",
      "b: IndexError\n",
      "c: ValueError\n",
      "d: NameError\n",
      "e: FileNotFoundError\n"
     ]
    }
   ],
   "source": [
    "try: \n",
    "  'a' + 6\n",
    "except Exception as e:\n",
    "  print('a:',type(e).__name__)\n",
    "try: \n",
    "  r = [0]*10\n",
    "  print(r[10])\n",
    "except Exception as e:\n",
    "  print('b:',type(e).__name__)\n",
    "try: \n",
    "  math.sqrt(-1.0)\n",
    "except Exception as e:\n",
    "  print('c:',type(e).__name__)\n",
    "try: \n",
    "  print(x)\n",
    "except Exception as e:\n",
    "  print('d:',type(e).__name__)\n",
    "try: \n",
    "  k = open('file.txt')\n",
    "except Exception as e:\n",
    "  print('e:',type(e).__name__)"
   ]
  },
  {
   "cell_type": "markdown",
   "id": "25a2ffba",
   "metadata": {},
   "source": [
    "Question 10"
   ]
  },
  {
   "cell_type": "code",
   "execution_count": 10,
   "id": "8ecad333",
   "metadata": {},
   "outputs": [
    {
     "name": "stdout",
     "output_type": "stream",
     "text": [
      "[1, 1, 1, 3, 5, 1, 1, 2, 1, 0, 1, 0, 1, 2, 4, 0, 1, 2, 0, 3, 1, 0, 1, 1, 0, 0]\n",
      "[1, 0, 0, 0, 1, 0, 0, 0, 0, 0, 0, 1, 0, 0, 0, 2, 0, 0, 0, 0, 0, 0, 0, 0, 0, 0]\n"
     ]
    }
   ],
   "source": [
    "from collections import Counter\n",
    "def frequencies(string1):\n",
    "  alphabets ='abcdefghijklmnopqrstuvwxyz'\n",
    "  freq = {i:0 for i in alphabets}\n",
    "  clean_string = \"\".join(i for i in string1.lower() if i.isalpha())\n",
    "  #print(clean_string)\n",
    "  for i in clean_string:\n",
    "    freq[i] += 1 \n",
    "  return list(freq.values())\n",
    "\n",
    "print(frequencies('The quick red fox got bored and went home.'))\n",
    "print(frequencies('apple'))"
   ]
  }
 ],
 "metadata": {
  "kernelspec": {
   "display_name": "Python 3 (ipykernel)",
   "language": "python",
   "name": "python3"
  },
  "language_info": {
   "codemirror_mode": {
    "name": "ipython",
    "version": 3
   },
   "file_extension": ".py",
   "mimetype": "text/x-python",
   "name": "python",
   "nbconvert_exporter": "python",
   "pygments_lexer": "ipython3",
   "version": "3.9.12"
  }
 },
 "nbformat": 4,
 "nbformat_minor": 5
}
